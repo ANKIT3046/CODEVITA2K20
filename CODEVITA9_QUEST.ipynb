{
  "nbformat": 4,
  "nbformat_minor": 0,
  "metadata": {
    "colab": {
      "name": "CODEVITA9 QUEST.ipynb",
      "provenance": [],
      "authorship_tag": "ABX9TyNNrUoOGE7mhm6OY6uyKyJY",
      "include_colab_link": true
    },
    "kernelspec": {
      "name": "python3",
      "display_name": "Python 3"
    }
  },
  "cells": [
    {
      "cell_type": "markdown",
      "metadata": {
        "id": "view-in-github",
        "colab_type": "text"
      },
      "source": [
        "<a href=\"https://colab.research.google.com/github/amitthakur2013/CODEVITA2K20/blob/master/CODEVITA9_QUEST.ipynb\" target=\"_parent\"><img src=\"https://colab.research.google.com/assets/colab-badge.svg\" alt=\"Open In Colab\"/></a>"
      ]
    },
    {
      "cell_type": "code",
      "metadata": {
        "id": "Ks6J4uW_UkUw",
        "colab_type": "code",
        "colab": {
          "base_uri": "https://localhost:8080/",
          "height": 34
        },
        "outputId": "cbf16149-5e8d-4a57-861b-d46a93607754"
      },
      "source": [
        "rem={0:0,1:0,2:0}\n",
        "rem"
      ],
      "execution_count": null,
      "outputs": [
        {
          "output_type": "execute_result",
          "data": {
            "text/plain": [
              "{0: 0, 1: 0, 2: 0}"
            ]
          },
          "metadata": {
            "tags": []
          },
          "execution_count": 4
        }
      ]
    },
    {
      "cell_type": "code",
      "metadata": {
        "id": "fqmhg4_2VlCe",
        "colab_type": "code",
        "colab": {
          "base_uri": "https://localhost:8080/",
          "height": 85
        },
        "outputId": "86dd5a6a-7527-48bf-8cd4-03fe2015a0d0"
      },
      "source": [
        "t=int(input())\n",
        "for _ in range(t):\n",
        "  n=int(input())\n",
        "  l=list(map(int,input().split()))\n",
        "  rem={0:0,1:0,2:0}\n",
        "  for i in l:\n",
        "    rem[i%3]+=1 \n",
        "  if((rem[0]-1) > (rem[1]+rem[2])):\n",
        "    print(\"No\")\n",
        "  else:\n",
        "    if(rem[0] > 0):\n",
        "      print(\"Yes\")\n",
        "    else:\n",
        "      if((rem[1]!=0 and rem[2] == 0) or (rem[2]!=0 and rem[1] == 0)):\n",
        "        print(\"Yes\")\n",
        "      else:\n",
        "        print(\"No\")\n"
      ],
      "execution_count": null,
      "outputs": [
        {
          "output_type": "stream",
          "text": [
            "1\n",
            "2\n",
            "2 2\n",
            "Yes\n"
          ],
          "name": "stdout"
        }
      ]
    },
    {
      "cell_type": "code",
      "metadata": {
        "id": "_a2nfJ5wkV9q",
        "colab_type": "code",
        "colab": {
          "base_uri": "https://localhost:8080/",
          "height": 85
        },
        "outputId": "de5af0ab-19a8-4ebe-f948-76992b0ded50"
      },
      "source": [
        "def rotateMatrix_clock(mat): \n",
        "  if not len(mat): \n",
        "    return\n",
        "  top = 0\n",
        "  bottom = len(mat)-1\n",
        "\n",
        "  left = 0\n",
        "  right = len(mat[0])-1\n",
        "  \n",
        "  while left < right and top < bottom: \n",
        "    if(top % 2!= 0):\n",
        "      prev = mat[top+1][left] \n",
        "      for i in range(left, right+1): \n",
        "          curr = mat[top][i] \n",
        "          mat[top][i] = prev \n",
        "          prev = curr \n",
        "      top += 1\n",
        "\n",
        "      for i in range(top, bottom+1): \n",
        "          curr = mat[i][right] \n",
        "          mat[i][right] = prev \n",
        "          prev = curr \n",
        "      right -= 1 \n",
        "      for i in range(right, left-1, -1): \n",
        "          curr = mat[bottom][i] \n",
        "          mat[bottom][i] = prev \n",
        "          prev = curr \n",
        "      bottom -= 1\n",
        "      for i in range(bottom, top-1, -1): \n",
        "          curr = mat[i][left] \n",
        "          mat[i][left] = prev \n",
        "          prev = curr \n",
        "\n",
        "      left += 1\n",
        "    else:\n",
        "      prev=mat[top+1][right]\n",
        "      for i in range(right,left-1,-1):\n",
        "        curr = mat[top][i] \n",
        "        mat[top][i] = prev \n",
        "        prev = curr \n",
        "      top+=1\n",
        "\n",
        "      for i in range(top,bottom+1):\n",
        "        curr = mat[i][left] \n",
        "        mat[i][left] = prev \n",
        "        prev = curr \n",
        "\n",
        "      left+=1\n",
        "\n",
        "      for i in range(left,right+1):\n",
        "        curr = mat[bottom][i] \n",
        "        mat[bottom][i] = prev \n",
        "        prev = curr \n",
        "      \n",
        "      bottom-=1 \n",
        "\n",
        "      for i in range(bottom,top-1,-1):\n",
        "        curr = mat[i][right] \n",
        "        mat[i][right] = prev \n",
        "        prev = curr \n",
        "\n",
        "      right-=1\n",
        "\n",
        "\n",
        "\n",
        "  return mat \n",
        "  \n",
        "# Utility Function \n",
        "def printMatrix(mat): \n",
        "  for row in mat: \n",
        "    print (row) \n",
        "  \n",
        "  \n",
        "# Test case 1 \n",
        "matrix =[  \n",
        "            [1,2,3,4], \n",
        "            [2,3,4,5], \n",
        "            [2,4,5,6 ], \n",
        "            [2,3,4,5 ],\n",
        "             \n",
        "        ] \n",
        "matrix = rotateMatrix_clock(matrix) \n",
        "\n",
        "printMatrix(matrix) "
      ],
      "execution_count": null,
      "outputs": [
        {
          "output_type": "stream",
          "text": [
            "[2, 3, 4, 5]\n",
            "[1, 4, 3, 6]\n",
            "[2, 5, 4, 5]\n",
            "[2, 2, 3, 4]\n"
          ],
          "name": "stdout"
        }
      ]
    },
    {
      "cell_type": "code",
      "metadata": {
        "id": "OwqyGn08ttZt",
        "colab_type": "code",
        "colab": {
          "base_uri": "https://localhost:8080/",
          "height": 85
        },
        "outputId": "30b26ddd-4a43-4814-b094-f5d02ceafa89"
      },
      "source": [
        "def rotateMatrix_anti_clock(mat,top_given): \n",
        "  if not len(mat): \n",
        "    return\n",
        "  top = 0\n",
        "  bottom = len(mat)-1\n",
        "\n",
        "  left = 0\n",
        "  right = len(mat[0])-1\n",
        "  \n",
        "  while left < right and top < bottom: \n",
        "    if(top==top_given):\n",
        "      prev=mat[top+1][right]\n",
        "      for i in range(right,left-1,-1):\n",
        "        curr = mat[top][i] \n",
        "        mat[top][i] = prev \n",
        "        prev = curr \n",
        "      top+=1\n",
        "\n",
        "      for i in range(top,bottom+1):\n",
        "        curr = mat[i][left] \n",
        "        mat[i][left] = prev \n",
        "        prev = curr \n",
        "\n",
        "      left+=1\n",
        "\n",
        "      for i in range(left,right+1):\n",
        "        curr = mat[bottom][i] \n",
        "        mat[bottom][i] = prev \n",
        "        prev = curr \n",
        "      \n",
        "      bottom-=1 \n",
        "\n",
        "      for i in range(bottom,top-1,-1):\n",
        "        curr = mat[i][right] \n",
        "        mat[i][right] = prev \n",
        "        prev = curr \n",
        "\n",
        "      right-=1\n",
        "    else:   \n",
        "      top += 1\n",
        "      right -= 1 \n",
        "      bottom -= 1\n",
        "      left += 1\n",
        "  return mat \n",
        "  \n",
        "def rotateMatrix_clock(mat,top_given): \n",
        "  if not len(mat): \n",
        "    return\n",
        "  top = 0\n",
        "  bottom = len(mat)-1\n",
        "\n",
        "  left = 0\n",
        "  right = len(mat[0])-1\n",
        "  \n",
        "  while left < right and top < bottom: \n",
        "    if(top!=top_given): \n",
        "      top+=1\n",
        "      left+=1\n",
        "      bottom-=1 \n",
        "      right-=1\n",
        "    else:\n",
        "      prev = mat[top+1][left] \n",
        "      for i in range(left, right+1): \n",
        "          curr = mat[top][i] \n",
        "          mat[top][i] = prev \n",
        "          prev = curr \n",
        "      top += 1\n",
        "\n",
        "      for i in range(top, bottom+1): \n",
        "          curr = mat[i][right] \n",
        "          mat[i][right] = prev \n",
        "          prev = curr \n",
        "      right -= 1 \n",
        "      for i in range(right, left-1, -1): \n",
        "          curr = mat[bottom][i] \n",
        "          mat[bottom][i] = prev \n",
        "          prev = curr \n",
        "      bottom -= 1\n",
        "      for i in range(bottom, top-1, -1): \n",
        "          curr = mat[i][left] \n",
        "          mat[i][left] = prev \n",
        "          prev = curr \n",
        "\n",
        "      left += 1\n",
        "  return mat \n",
        "  \n",
        "# Utility Function\n",
        "def printMatrix(mat): \n",
        "  for i in range(len(mat)):\n",
        "    for j in range(len(mat[0])):\n",
        "      print(mat[i][j],end=\" \")\n",
        "    print() \n",
        "  \n",
        "  \n",
        "\n",
        "def rotate(mat,layer):\n",
        "  top=0\n",
        "  bottom=len(mat)-1\n",
        "  for i in layer:\n",
        "    for i in range(i):\n",
        "      if(top%2==0):\n",
        "        matrix=rotateMatrix_anti_clock(mat,top)\n",
        "      else:\n",
        "        matrix=rotateMatrix_clock(mat,top)\n",
        "    top+=1\n",
        "  printMatrix(matrix)\n",
        "m,n=map(int,input().split())\n",
        "matrix=[]\n",
        "for i in range(m):\n",
        "  matrix.append(list(map(int,input().split())))\n",
        "layer=list(map(int,input().split()))\n",
        "layer=layer[::-1]\n",
        "a,b=m,n\n",
        "for i in range(len(layer)):\n",
        "  if a==2 or b==2:\n",
        "    no_of_elements=a*b\n",
        "  else:\n",
        "    no_of_elements=a*b-((a-2)*(b-2))\n",
        "  a-=2\n",
        "  b-=2\n",
        "  layer[i]=layer[i]%(no_of_elements)\n",
        "print(layer)\n",
        "rotate(matrix,layer)"
      ],
      "execution_count": null,
      "outputs": [
        {
          "output_type": "stream",
          "text": [
            "3 4 5 6 \n",
            "2 5 4 5 \n",
            "1 4 3 4 \n",
            "2 2 2 3 \n"
          ],
          "name": "stdout"
        }
      ]
    },
    {
      "cell_type": "code",
      "metadata": {
        "id": "lxfNRtjAxGvZ",
        "colab_type": "code",
        "colab": {
          "base_uri": "https://localhost:8080/",
          "height": 187
        },
        "outputId": "90b5ddec-f7c5-4314-fa7f-e33ad6cf5e86"
      },
      "source": [
        "def rotateMatrix_anti_clock(mat,top,right,left,bottom): \n",
        "  if not len(mat): \n",
        "    return\n",
        "\n",
        "  prev=mat[top+1][right]\n",
        "  for i in range(right,left-1,-1):\n",
        "    curr = mat[top][i] \n",
        "    mat[top][i] = prev \n",
        "    prev = curr \n",
        "  top+=1\n",
        "\n",
        "  for i in range(top,bottom+1):\n",
        "    curr = mat[i][left] \n",
        "    mat[i][left] = prev \n",
        "    prev = curr \n",
        "\n",
        "  left+=1\n",
        "\n",
        "  for i in range(left,right+1):\n",
        "    curr = mat[bottom][i] \n",
        "    mat[bottom][i] = prev \n",
        "    prev = curr \n",
        "  \n",
        "  bottom-=1 \n",
        "\n",
        "  for i in range(bottom,top-1,-1):\n",
        "    curr = mat[i][right] \n",
        "    mat[i][right] = prev \n",
        "    prev = curr \n",
        "  right-=1\n",
        "  return mat \n",
        "  \n",
        "def rotateMatrix_clock(mat,top,right,left,bottom): \n",
        "  if not len(mat): \n",
        "    return\n",
        "  prev = mat[top+1][left] \n",
        "  for i in range(left, right+1): \n",
        "      curr = mat[top][i] \n",
        "      mat[top][i] = prev \n",
        "      prev = curr \n",
        "  top += 1\n",
        "\n",
        "  for i in range(top, bottom+1): \n",
        "      curr = mat[i][right] \n",
        "      mat[i][right] = prev \n",
        "      prev = curr \n",
        "  right -= 1 \n",
        "  for i in range(right, left-1, -1): \n",
        "      curr = mat[bottom][i] \n",
        "      mat[bottom][i] = prev \n",
        "      prev = curr \n",
        "  bottom -= 1\n",
        "  for i in range(bottom, top-1, -1): \n",
        "      curr = mat[i][left] \n",
        "      mat[i][left] = prev \n",
        "      prev = curr \n",
        "\n",
        "  left += 1\n",
        "  return mat \n",
        "  \n",
        "# Utility Function\n",
        "def printMatrix(mat):  \n",
        "  for i in mat:\n",
        "    print(\" \".join(i))\n",
        "\n",
        "def rotate(mat,layer):\n",
        "  top=0\n",
        "  bottom=len(mat)-1\n",
        "  left=0\n",
        "  right=len(mat[0])-1\n",
        "  matrix=mat.copy()\n",
        "  for i in layer:\n",
        "    if i==0:\n",
        "      continue\n",
        "    for j in range(i):\n",
        "      if(top%2==0):\n",
        "        matrix=rotateMatrix_anti_clock(matrix,top,right,left,bottom)\n",
        "      else:\n",
        "        matrix=rotateMatrix_clock(matrix,top,right,left,bottom)\n",
        "    top+=1\n",
        "    right-=1\n",
        "    left+=1\n",
        "    bottom-=1\n",
        "  printMatrix(matrix)\n",
        "\n",
        "m,n=map(int,input().split())\n",
        "matrix=[]\n",
        "for i in range(m):\n",
        "  matrix.append(list(map(str,input().split())))\n",
        "layer=list(map(int,input().split()))\n",
        "a,b=m,n\n",
        "for i in range(len(layer)):\n",
        "  if a==2 or b==2:\n",
        "    no_of_elements=a*b\n",
        "  else:\n",
        "    no_of_elements=a*b-((a-2)*(b-2))\n",
        "  a-=2\n",
        "  b-=2\n",
        "  layer[i]=layer[i]%(no_of_elements)\n",
        "\n",
        "rotate(matrix,layer)"
      ],
      "execution_count": null,
      "outputs": [
        {
          "output_type": "stream",
          "text": [
            "4 4\n",
            "1 2 3 4\n",
            "2 3 4 5\n",
            "2 4 5 6\n",
            "2 3 4 5 \n",
            "1 1\n",
            "2 3 4 5\n",
            "1 4 3 6\n",
            "2 5 4 5\n",
            "2 2 3 4\n"
          ],
          "name": "stdout"
        }
      ]
    },
    {
      "cell_type": "code",
      "metadata": {
        "id": "yFJpbq2LAT3c",
        "colab_type": "code",
        "colab": {
          "base_uri": "https://localhost:8080/",
          "height": 34
        },
        "outputId": "646eea16-d667-42f0-d825-ad50c0f2305a"
      },
      "source": [
        "1000000%28\n"
      ],
      "execution_count": null,
      "outputs": [
        {
          "output_type": "execute_result",
          "data": {
            "text/plain": [
              "8"
            ]
          },
          "metadata": {
            "tags": []
          },
          "execution_count": 59
        }
      ]
    },
    {
      "cell_type": "code",
      "metadata": {
        "id": "wYm6GGUMH9no",
        "colab_type": "code",
        "colab": {
          "base_uri": "https://localhost:8080/",
          "height": 34
        },
        "outputId": "001300b7-c58f-4257-bacd-7534e3a34827"
      },
      "source": [
        "1000000000%99999\n"
      ],
      "execution_count": null,
      "outputs": [
        {
          "output_type": "execute_result",
          "data": {
            "text/plain": [
              "10000"
            ]
          },
          "metadata": {
            "tags": []
          },
          "execution_count": 77
        }
      ]
    },
    {
      "cell_type": "code",
      "metadata": {
        "id": "faaNQzWbdiqH",
        "colab_type": "code",
        "colab": {
          "base_uri": "https://localhost:8080/",
          "height": 51
        },
        "outputId": "4c748989-453b-4847-861c-c45e2fb8ef4a"
      },
      "source": [
        "l=[[0 for _ in range(1001)]for __ in range(1001)]\n",
        "\n",
        "def initialize():\n",
        "  l[0][0]=1\n",
        "  for i in range(1,1001):\n",
        "    l[i][0]=1\n",
        "    for j in range(1,i+1):\n",
        "      l[i][j]=l[i-1][j-1]+l[i-1][j]\n",
        "initialize()\n",
        "def nCr(n,r):\n",
        "  return l[n][r]\n",
        "\n",
        "n,r=map(int,input().split())\n",
        "print(nCr(n,r))"
      ],
      "execution_count": null,
      "outputs": [
        {
          "output_type": "stream",
          "text": [
            "5 4\n",
            "5\n"
          ],
          "name": "stdout"
        }
      ]
    },
    {
      "cell_type": "code",
      "metadata": {
        "id": "t_IeF1-IhRuw",
        "colab_type": "code",
        "colab": {}
      },
      "source": [
        "def rotateMatrix_anti_clock(mat,top,right,left,bottom): \n",
        "  if not len(mat): \n",
        "    return\n",
        "\n",
        "  prev=mat[top+1][right]\n",
        "  for i in range(right,left-1,-1):\n",
        "    curr = mat[top][i] \n",
        "    mat[top][i] = prev \n",
        "    prev = curr \n",
        "  top+=1\n",
        "\n",
        "  for i in range(top,bottom+1):\n",
        "    curr = mat[i][left] \n",
        "    mat[i][left] = prev \n",
        "    prev = curr \n",
        "\n",
        "  left+=1\n",
        "\n",
        "  for i in range(left,right+1):\n",
        "    curr = mat[bottom][i] \n",
        "    mat[bottom][i] = prev \n",
        "    prev = curr \n",
        "  \n",
        "  bottom-=1 \n",
        "\n",
        "  for i in range(bottom,top-1,-1):\n",
        "    curr = mat[i][right] \n",
        "    mat[i][right] = prev \n",
        "    prev = curr \n",
        "  right-=1\n",
        "  return mat \n",
        "  \n",
        "def rotateMatrix_clock(mat,top,right,left,bottom): \n",
        "  if not len(mat): \n",
        "    return\n",
        "  prev = mat[top+1][left] \n",
        "  for i in range(left, right+1): \n",
        "      curr = mat[top][i] \n",
        "      mat[top][i] = prev \n",
        "      prev = curr \n",
        "  top += 1\n",
        "\n",
        "  for i in range(top, bottom+1): \n",
        "      curr = mat[i][right] \n",
        "      mat[i][right] = prev \n",
        "      prev = curr \n",
        "  right -= 1 \n",
        "  for i in range(right, left-1, -1): \n",
        "      curr = mat[bottom][i] \n",
        "      mat[bottom][i] = prev \n",
        "      prev = curr \n",
        "  bottom -= 1\n",
        "  for i in range(bottom, top-1, -1): \n",
        "      curr = mat[i][left] \n",
        "      mat[i][left] = prev \n",
        "      prev = curr \n",
        "\n",
        "  left += 1\n",
        "  return mat \n",
        "  \n",
        "# Utility Function\n",
        "def printMatrix(mat): \n",
        "  for i in range(len(mat)):\n",
        "    for j in range(len(mat[0])):\n",
        "      print(mat[i][j],end=\" \")\n",
        "    print() \n",
        "\n",
        "def rotate(mat,layer):\n",
        "  top=0\n",
        "  bottom=len(mat)-1\n",
        "  left=0\n",
        "  right=len(mat[0])-1\n",
        "  matrix=mat.copy()\n",
        "  for i in layer:\n",
        "    if i==0:\n",
        "      continue\n",
        "    for j in range(i):\n",
        "      if(top%2==0):\n",
        "        matrix=rotateMatrix_anti_clock(matrix,top,right,left,bottom)\n",
        "      else:\n",
        "        matrix=rotateMatrix_clock(matrix,top,right,left,bottom)\n",
        "    top+=1\n",
        "    right-=1\n",
        "    left+=1\n",
        "    bottom-=1\n",
        "  printMatrix(matrix)\n",
        "\n",
        "matrix=[[2 for _ in range(300)]for __ in range(300)]\n",
        "a,b=300,300\n",
        "layer=[154545545,15454545,15454545,15454545]\n",
        "for i in range(len(layer)):\n",
        "  if a==2 or b==2:\n",
        "    no_of_elements=a*b\n",
        "  else:\n",
        "    no_of_elements=a*b-((a-2)*(b-2))\n",
        "  a-=2\n",
        "  b-=2\n",
        "  layer[i]=layer[i]%(no_of_elements)\n",
        "\n",
        "rotate(matrix,layer)"
      ],
      "execution_count": null,
      "outputs": []
    },
    {
      "cell_type": "code",
      "metadata": {
        "id": "Woa8NhOpkIyd",
        "colab_type": "code",
        "colab": {}
      },
      "source": [
        ""
      ],
      "execution_count": null,
      "outputs": []
    }
  ]
}